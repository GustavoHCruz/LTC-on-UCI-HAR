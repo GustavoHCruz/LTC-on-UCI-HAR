{
 "cells": [
  {
   "cell_type": "markdown",
   "metadata": {},
   "source": [
    "Libraries and Imports"
   ]
  },
  {
   "cell_type": "code",
   "execution_count": 20,
   "metadata": {},
   "outputs": [],
   "source": [
    "import json\n",
    "import os\n",
    "import sys\n",
    "\n",
    "import matplotlib.pyplot as plt\n",
    "import numpy as np\n",
    "import pandas as pd\n",
    "import pytorch_lightning as pl\n",
    "import torch\n",
    "import torch.nn as nn\n",
    "import torch.utils.data as data\n",
    "import torchmetrics\n",
    "from ncps.torch import LTC\n",
    "from ncps.wirings import AutoNCP\n",
    "from plyer import notification\n",
    "from pytorch_lightning.callbacks import ModelCheckpoint\n",
    "from pytorch_lightning.loggers import CSVLogger\n",
    "\n",
    "sys.path.append(os.path.abspath(\"funcs\"))\n",
    "\n",
    "from config_reading import read_and_validate_training_json\n",
    "from latest_log import get_latest_csv\n",
    "from timer_callback import TimingCallback"
   ]
  },
  {
   "cell_type": "markdown",
   "metadata": {},
   "source": [
    "Opening configuration file"
   ]
  },
  {
   "cell_type": "code",
   "execution_count": 21,
   "metadata": {},
   "outputs": [],
   "source": [
    "config = read_and_validate_training_json()"
   ]
  },
  {
   "cell_type": "markdown",
   "metadata": {},
   "source": [
    "Setting the CUDA float32 precision."
   ]
  },
  {
   "cell_type": "code",
   "execution_count": 22,
   "metadata": {},
   "outputs": [],
   "source": [
    "torch.set_float32_matmul_precision(config[\"float_precision\"])"
   ]
  },
  {
   "cell_type": "markdown",
   "metadata": {},
   "source": [
    "Set the seed manually to ensure reproducibility"
   ]
  },
  {
   "cell_type": "code",
   "execution_count": 23,
   "metadata": {},
   "outputs": [
    {
     "name": "stderr",
     "output_type": "stream",
     "text": [
      "Seed set to 1234\n"
     ]
    },
    {
     "data": {
      "text/plain": [
       "1234"
      ]
     },
     "execution_count": 23,
     "metadata": {},
     "output_type": "execute_result"
    }
   ],
   "source": [
    "seed = config[\"seed\"]\n",
    "\n",
    "torch.manual_seed(seed)\n",
    "torch.cuda.manual_seed(seed)\n",
    "torch.cuda.manual_seed_all(seed)\n",
    "np.random.seed(seed)\n",
    "pl.seed_everything(seed, workers=True)"
   ]
  },
  {
   "cell_type": "markdown",
   "metadata": {},
   "source": [
    "Reading the dataset."
   ]
  },
  {
   "cell_type": "code",
   "execution_count": 24,
   "metadata": {},
   "outputs": [],
   "source": [
    "train_x = torch.load(os.path.join(config[\"save_path\"], \"tensor_train_x.pt\"))\n",
    "train_y = torch.load(os.path.join(config[\"save_path\"], \"tensor_train_y.pt\"))\n",
    "val_x = torch.load(os.path.join(config[\"save_path\"], \"tensor_val_x.pt\"))\n",
    "val_y = torch.load(os.path.join(config[\"save_path\"], \"tensor_val_y.pt\"))\n",
    "test_x = torch.load(os.path.join(config[\"save_path\"], \"tensor_test_x.pt\"))\n",
    "test_y = torch.load(os.path.join(config[\"save_path\"], \"tensor_test_y.pt\"))"
   ]
  },
  {
   "cell_type": "markdown",
   "metadata": {},
   "source": [
    "Defining loaders, models phases and model configuration"
   ]
  },
  {
   "cell_type": "code",
   "execution_count": 25,
   "metadata": {},
   "outputs": [
    {
     "name": "stdout",
     "output_type": "stream",
     "text": [
      "Train:6616\n",
      "Val:736\n",
      "Test:2947\n"
     ]
    }
   ],
   "source": [
    "print(f\"Train:{train_x.shape[0]}\\nVal:{val_x.shape[0]}\\nTest:{test_x.shape[0]}\")"
   ]
  },
  {
   "cell_type": "code",
   "execution_count": 26,
   "metadata": {},
   "outputs": [],
   "source": [
    "train_batch, val_batch, test_batch = config[\"batch_sizes\"]"
   ]
  },
  {
   "cell_type": "code",
   "execution_count": 27,
   "metadata": {},
   "outputs": [],
   "source": [
    "train_dataloader = data.DataLoader(data.TensorDataset(train_x, train_y), batch_size=train_batch, shuffle=True, num_workers=16, persistent_workers=True)\n",
    "val_dataloader = data.DataLoader(data.TensorDataset(val_x, val_y), batch_size=val_batch, num_workers=16, persistent_workers=True)\n",
    "test_dataloader = data.DataLoader(data.TensorDataset(test_x, test_y), batch_size=test_batch, num_workers=16, persistent_workers=True)"
   ]
  },
  {
   "cell_type": "code",
   "execution_count": 28,
   "metadata": {},
   "outputs": [],
   "source": [
    "class SequenceLearner(pl.LightningModule):\n",
    "\tdef __init__(self, model, lr):\n",
    "\t\tsuper().__init__()\n",
    "\t\tself.model = model\n",
    "\t\tself.lr = lr\n",
    "\t\tself.loss_fn = nn.CrossEntropyLoss()\n",
    "\t\tself.train_acc = torchmetrics.Accuracy(task=\"multiclass\", num_classes=6)\n",
    "\t\tself.val_acc = torchmetrics.Accuracy(task=\"multiclass\", num_classes=6)\n",
    "\t\tself.test_acc = torchmetrics.Accuracy(task=\"multiclass\", num_classes=6)\n",
    "\t\tself.log_collection = []\n",
    "\n",
    "\tdef training_step(self, batch, batch_idx):\n",
    "\t\tx, y = batch\n",
    "\t\ty_hat, _ = self.model.forward(x)\n",
    "\t\tloss = self.loss_fn(y_hat, y)\n",
    "\t\ty_pred = y_hat.argmax(dim=-1)\n",
    "\t\tself.log_collection.append({\"loss\": loss, \"acc\": self.train_acc(y_pred, y)})\n",
    "\t\treturn {\"loss\": loss}\n",
    "\n",
    "\tdef validation_step(self, batch, batch_idx):\n",
    "\t\tx, y = batch\n",
    "\t\ty_hat, _ = self.model.forward(x)\n",
    "\t\tloss = self.loss_fn(y_hat, y)\n",
    "\t\ty_pred = y_hat.argmax(dim=-1)\n",
    "\t\tself.log_collection.append({\"loss\": loss, \"acc\": self.val_acc(y_pred, y)})\n",
    "\t\treturn {\"loss\": loss}\n",
    "\t\n",
    "\tdef test_step(self, batch, batch_idx):\n",
    "\t\tx, y = batch\n",
    "\t\ty_hat, _ = self.model.forward(x)\n",
    "\t\tloss = self.loss_fn(y_hat, y)\n",
    "\t\ty_pred = y_hat.argmax(dim=-1)\n",
    "\t\tself.log(\"test_loss\", loss)\n",
    "\t\tself.log(\"test_acc\", self.test_acc(y_pred, y))\n",
    "\t\treturn {\"loss\": loss}\n",
    "\n",
    "\tdef on_validation_epoch_end(self):\n",
    "\t\tself.log(\"train_loss\", self.log_collection[0][\"loss\"], on_step=False, on_epoch=True)\n",
    "\t\tself.log(\"train_acc\", self.log_collection[0][\"acc\"], on_step=False, on_epoch=True)\n",
    "\t\tself.log(\"val_loss\", self.log_collection[1][\"loss\"], on_step=False, on_epoch=True)\n",
    "\t\tself.log(\"val_acc\", self.log_collection[1][\"acc\"], on_step=False, on_epoch=True)\n",
    "\t\tself.log_collection = []\n",
    "\n",
    "\n",
    "\tdef configure_optimizers(self):\n",
    "\t\treturn torch.optim.Adam(self.model.parameters(), lr=self.lr)"
   ]
  },
  {
   "cell_type": "code",
   "execution_count": 29,
   "metadata": {},
   "outputs": [],
   "source": [
    "out_features = 6 # Output\n",
    "in_features = 561 # Input"
   ]
  },
  {
   "cell_type": "code",
   "execution_count": 30,
   "metadata": {},
   "outputs": [],
   "source": [
    "wiring = AutoNCP(config[\"num_neurons\"], out_features)"
   ]
  },
  {
   "cell_type": "code",
   "execution_count": 31,
   "metadata": {},
   "outputs": [
    {
     "name": "stderr",
     "output_type": "stream",
     "text": [
      "GPU available: True (cuda), used: True\n",
      "TPU available: False, using: 0 TPU cores\n",
      "IPU available: False, using: 0 IPUs\n",
      "HPU available: False, using: 0 HPUs\n"
     ]
    },
    {
     "name": "stdout",
     "output_type": "stream",
     "text": [
      "alloc!\n"
     ]
    }
   ],
   "source": [
    "ltc_model = LTC(in_features, wiring, batch_first=True)\n",
    "learn = SequenceLearner(ltc_model, lr=config[\"learning_rate\"])\n",
    "\n",
    "log_dir = f\"logs\"\n",
    "logger = CSVLogger(log_dir, name=config[\"model_name\"])\n",
    "\n",
    "checkpoint_dir = f\"{log_dir}/{config[\"model_name\"]}/checkpoints\"\n",
    "last_checkpoint_path = f\"{checkpoint_dir}/last.ckpt\"\n",
    "checkpoint_callback = ModelCheckpoint(\n",
    "    dirpath=checkpoint_dir,\n",
    "    filename=\"{epoch}-{val_loss:.2f}\",\n",
    "    save_top_k=1,\n",
    "    monitor=\"val_loss\",\n",
    "    mode=\"min\",\n",
    "    save_last=True\n",
    ")\n",
    "\n",
    "trainer = pl.Trainer(\n",
    "\tlogger=logger,\n",
    "\tmax_epochs=201,\n",
    "  check_val_every_n_epoch=1,\n",
    "  callbacks=[TimingCallback(), checkpoint_callback],\n",
    "\tgradient_clip_val=1  # Clip gradient to stabilize training\n",
    ")"
   ]
  },
  {
   "cell_type": "markdown",
   "metadata": {},
   "source": [
    "Training"
   ]
  },
  {
   "cell_type": "code",
   "execution_count": 39,
   "metadata": {},
   "outputs": [
    {
     "name": "stderr",
     "output_type": "stream",
     "text": [
      "c:\\Users\\Gusta\\AppData\\Local\\Programs\\Python\\Python312\\Lib\\site-packages\\pytorch_lightning\\callbacks\\model_checkpoint.py:653: Checkpoint directory C:\\Users\\Gusta\\Documents\\liquid-neural-network\\src\\logs\\ex001\\checkpoints exists and is not empty.\n",
      "LOCAL_RANK: 0 - CUDA_VISIBLE_DEVICES: [0]\n",
      "\n",
      "  | Name      | Type               | Params\n",
      "-------------------------------------------------\n",
      "0 | model     | LTC                | 201 K \n",
      "1 | loss_fn   | CrossEntropyLoss   | 0     \n",
      "2 | train_acc | MulticlassAccuracy | 0     \n",
      "3 | val_acc   | MulticlassAccuracy | 0     \n",
      "4 | test_acc  | MulticlassAccuracy | 0     \n",
      "-------------------------------------------------\n",
      "161 K     Trainable params\n",
      "40.0 K    Non-trainable params\n",
      "201 K     Total params\n",
      "0.805     Total estimated model params size (MB)\n"
     ]
    },
    {
     "name": "stdout",
     "output_type": "stream",
     "text": [
      "                                                                           "
     ]
    },
    {
     "name": "stderr",
     "output_type": "stream",
     "text": [
      "c:\\Users\\Gusta\\AppData\\Local\\Programs\\Python\\Python312\\Lib\\site-packages\\pytorch_lightning\\loops\\fit_loop.py:298: The number of training batches (1) is smaller than the logging interval Trainer(log_every_n_steps=50). Set a lower value for log_every_n_steps if you want to see logs for the training epoch.\n",
      "`Trainer.fit` stopped: `max_epochs=200` reached.\n"
     ]
    },
    {
     "name": "stdout",
     "output_type": "stream",
     "text": [
      "\r"
     ]
    }
   ],
   "source": [
    "trainer.fit(learn, train_dataloader, val_dataloader)"
   ]
  },
  {
   "cell_type": "markdown",
   "metadata": {},
   "source": [
    "Testing and Ploting Results"
   ]
  },
  {
   "cell_type": "code",
   "execution_count": 33,
   "metadata": {},
   "outputs": [
    {
     "name": "stderr",
     "output_type": "stream",
     "text": [
      "LOCAL_RANK: 0 - CUDA_VISIBLE_DEVICES: [0]\n"
     ]
    },
    {
     "name": "stdout",
     "output_type": "stream",
     "text": [
      "Testing DataLoader 0: 100%|██████████| 1/1 [00:04<00:00,  0.20it/s]\n"
     ]
    },
    {
     "data": {
      "text/html": [
       "<pre style=\"white-space:pre;overflow-x:auto;line-height:normal;font-family:Menlo,'DejaVu Sans Mono',consolas,'Courier New',monospace\">┏━━━━━━━━━━━━━━━━━━━━━━━━━━━┳━━━━━━━━━━━━━━━━━━━━━━━━━━━┓\n",
       "┃<span style=\"font-weight: bold\">        Test metric        </span>┃<span style=\"font-weight: bold\">       DataLoader 0        </span>┃\n",
       "┡━━━━━━━━━━━━━━━━━━━━━━━━━━━╇━━━━━━━━━━━━━━━━━━━━━━━━━━━┩\n",
       "│<span style=\"color: #008080; text-decoration-color: #008080\">         test_acc          </span>│<span style=\"color: #800080; text-decoration-color: #800080\">    0.9402782320976257     </span>│\n",
       "│<span style=\"color: #008080; text-decoration-color: #008080\">         test_loss         </span>│<span style=\"color: #800080; text-decoration-color: #800080\">    0.19143876433372498    </span>│\n",
       "└───────────────────────────┴───────────────────────────┘\n",
       "</pre>\n"
      ],
      "text/plain": [
       "┏━━━━━━━━━━━━━━━━━━━━━━━━━━━┳━━━━━━━━━━━━━━━━━━━━━━━━━━━┓\n",
       "┃\u001b[1m \u001b[0m\u001b[1m       Test metric       \u001b[0m\u001b[1m \u001b[0m┃\u001b[1m \u001b[0m\u001b[1m      DataLoader 0       \u001b[0m\u001b[1m \u001b[0m┃\n",
       "┡━━━━━━━━━━━━━━━━━━━━━━━━━━━╇━━━━━━━━━━━━━━━━━━━━━━━━━━━┩\n",
       "│\u001b[36m \u001b[0m\u001b[36m        test_acc         \u001b[0m\u001b[36m \u001b[0m│\u001b[35m \u001b[0m\u001b[35m   0.9402782320976257    \u001b[0m\u001b[35m \u001b[0m│\n",
       "│\u001b[36m \u001b[0m\u001b[36m        test_loss        \u001b[0m\u001b[36m \u001b[0m│\u001b[35m \u001b[0m\u001b[35m   0.19143876433372498   \u001b[0m\u001b[35m \u001b[0m│\n",
       "└───────────────────────────┴───────────────────────────┘\n"
      ]
     },
     "metadata": {},
     "output_type": "display_data"
    },
    {
     "data": {
      "text/plain": [
       "[{'test_loss': 0.19143876433372498, 'test_acc': 0.9402782320976257}]"
      ]
     },
     "execution_count": 33,
     "metadata": {},
     "output_type": "execute_result"
    }
   ],
   "source": [
    "trainer.test(learn, test_dataloader)"
   ]
  },
  {
   "cell_type": "code",
   "execution_count": 34,
   "metadata": {},
   "outputs": [
    {
     "data": {
      "image/png": "[encoded data removed]",
      "text/plain": [
       "<Figure size 1200x600 with 1 Axes>"
      ]
     },
     "metadata": {},
     "output_type": "display_data"
    }
   ],
   "source": [
    "latest_csv = get_latest_csv(logger.log_dir)\n",
    "metrics = pd.read_csv(latest_csv)\n",
    "\n",
    "steps = metrics[\"epoch\"]\n",
    "\n",
    "plt.figure(figsize=(12, 6))\n",
    "\n",
    "plt.subplot(1, 2, 1)\n",
    "plt.plot(steps, metrics[\"train_acc\"], label='Train Accuracy')\n",
    "plt.plot(steps, metrics[\"val_acc\"], label='Validation Accuracy')\n",
    "plt.xlabel('Epoch')\n",
    "plt.ylabel('Accuracy')\n",
    "plt.legend()\n",
    "\n",
    "plt.show()"
   ]
  },
  {
   "cell_type": "code",
   "execution_count": 35,
   "metadata": {},
   "outputs": [
    {
     "data": {
      "image/png": "[encoded data removed]",
      "text/plain": [
       "<Figure size 1200x600 with 1 Axes>"
      ]
     },
     "metadata": {},
     "output_type": "display_data"
    }
   ],
   "source": [
    "latest_csv = get_latest_csv(logger.log_dir)\n",
    "metrics = pd.read_csv(latest_csv)\n",
    "\n",
    "steps = metrics[\"epoch\"]\n",
    "\n",
    "plt.figure(figsize=(12, 6))\n",
    "\n",
    "plt.subplot(1, 2, 1)\n",
    "plt.plot(steps, metrics[\"train_loss\"], label='Train Loss')\n",
    "plt.plot(steps, metrics[\"val_loss\"], label='Validation Loss')\n",
    "plt.xlabel('Epoch')\n",
    "plt.ylabel('Loss')\n",
    "plt.legend()\n",
    "\n",
    "plt.show()"
   ]
  },
  {
   "cell_type": "markdown",
   "metadata": {},
   "source": [
    "Saving the trained model"
   ]
  },
  {
   "cell_type": "code",
   "execution_count": 36,
   "metadata": {},
   "outputs": [],
   "source": [
    "if not os.path.exists(\"models\"):\n",
    "\tos.makedirs(\"models\")\n",
    "\n",
    "torch.save(ltc_model, f\"models/{config[\"model_name\"]}.pt\")"
   ]
  },
  {
   "cell_type": "markdown",
   "metadata": {},
   "source": [
    "Saving the configuration used"
   ]
  },
  {
   "cell_type": "code",
   "execution_count": 37,
   "metadata": {},
   "outputs": [],
   "source": [
    "config_file_path = os.path.join(logger.log_dir, \"config.json\")\n",
    "with open(config_file_path, 'w') as config_file:\n",
    "\tjson.dump(config, config_file, indent=2)"
   ]
  },
  {
   "cell_type": "markdown",
   "metadata": {},
   "source": [
    "Notification for end of training"
   ]
  },
  {
   "cell_type": "code",
   "execution_count": 38,
   "metadata": {},
   "outputs": [],
   "source": [
    "notification.notify(\n",
    "\ttitle=\"Training ended\",\n",
    "\tmessage=f\"The training of the model {config[\"model_name\"]} with {config[\"max_epochs\"]} epochs has been completed.\",\n",
    "\ttimeout=10\n",
    ")"
   ]
  }
 ],
 "metadata": {
  "kernelspec": {
   "display_name": "Python 3",
   "language": "python",
   "name": "python3"
  },
  "language_info": {
   "codemirror_mode": {
    "name": "ipython",
    "version": 3
   },
   "file_extension": ".py",
   "mimetype": "text/x-python",
   "name": "python",
   "nbconvert_exporter": "python",
   "pygments_lexer": "ipython3",
   "version": "3.12.3"
  }
 },
 "nbformat": 4,
 "nbformat_minor": 2
}
