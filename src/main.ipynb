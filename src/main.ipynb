{
 "cells": [
  {
   "cell_type": "markdown",
   "metadata": {},
   "source": [
    "Libraries and Imports"
   ]
  },
  {
   "cell_type": "code",
   "execution_count": 1,
   "metadata": {},
   "outputs": [],
   "source": [
    "import json\n",
    "import os\n",
    "import sys\n",
    "\n",
    "import matplotlib.pyplot as plt\n",
    "import numpy as np\n",
    "import pandas as pd\n",
    "import pytorch_lightning as pl\n",
    "import torch\n",
    "import torch.nn as nn\n",
    "import torch.utils.data as data\n",
    "import torchmetrics\n",
    "from ncps.torch import LTC\n",
    "from ncps.wirings import AutoNCP\n",
    "from plyer import notification\n",
    "from pytorch_lightning.loggers import CSVLogger\n",
    "\n",
    "sys.path.append(os.path.abspath(\"funcs\"))\n",
    "\n",
    "from config_reading import read_and_validate_json\n",
    "from latest_log import get_latest_csv\n",
    "from timer_callback import TimingCallback"
   ]
  },
  {
   "cell_type": "markdown",
   "metadata": {},
   "source": [
    "Opening configuration file"
   ]
  },
  {
   "cell_type": "code",
   "execution_count": 2,
   "metadata": {},
   "outputs": [],
   "source": [
    "config = read_and_validate_json(\"config.json\")"
   ]
  },
  {
   "cell_type": "markdown",
   "metadata": {},
   "source": [
    "Setting the CUDA float32 precision."
   ]
  },
  {
   "cell_type": "code",
   "execution_count": 3,
   "metadata": {},
   "outputs": [],
   "source": [
    "torch.set_float32_matmul_precision(config[\"float_precision\"])"
   ]
  },
  {
   "cell_type": "markdown",
   "metadata": {},
   "source": [
    "Set the seed manually to ensure reproducibility"
   ]
  },
  {
   "cell_type": "code",
   "execution_count": 4,
   "metadata": {},
   "outputs": [
    {
     "name": "stderr",
     "output_type": "stream",
     "text": [
      "Seed set to 6\n"
     ]
    },
    {
     "data": {
      "text/plain": [
       "6"
      ]
     },
     "execution_count": 4,
     "metadata": {},
     "output_type": "execute_result"
    }
   ],
   "source": [
    "torch.manual_seed(config[\"seed\"])\n",
    "torch.cuda.manual_seed(config[\"seed\"])\n",
    "torch.cuda.manual_seed_all(config[\"seed\"])\n",
    "np.random.seed(config[\"seed\"])\n",
    "pl.seed_everything(config[\"seed\"], workers=True)"
   ]
  },
  {
   "cell_type": "markdown",
   "metadata": {},
   "source": [
    "Reading the dataset."
   ]
  },
  {
   "cell_type": "code",
   "execution_count": 5,
   "metadata": {},
   "outputs": [],
   "source": [
    "train_x = torch.load(os.path.join(config[\"save_path\"], \"tensor_train_x.pt\"))\n",
    "train_y = torch.load(os.path.join(config[\"save_path\"], \"tensor_train_y.pt\"))\n",
    "val_x = torch.load(os.path.join(config[\"save_path\"], \"tensor_val_x.pt\"))\n",
    "val_y = torch.load(os.path.join(config[\"save_path\"], \"tensor_val_y.pt\"))\n",
    "test_x = torch.load(os.path.join(config[\"save_path\"], \"tensor_test_x.pt\"))\n",
    "test_y = torch.load(os.path.join(config[\"save_path\"], \"tensor_test_y.pt\"))"
   ]
  },
  {
   "cell_type": "markdown",
   "metadata": {},
   "source": [
    "Defining loaders, models phases and model configuration"
   ]
  },
  {
   "cell_type": "code",
   "execution_count": 6,
   "metadata": {},
   "outputs": [],
   "source": [
    "train_dataloader = data.DataLoader(data.TensorDataset(train_x, train_y), batch_size=16, shuffle=True, num_workers=16, persistent_workers=True)\n",
    "val_dataloader = data.DataLoader(data.TensorDataset(val_x, val_y), batch_size=16, num_workers=16, persistent_workers=True)\n",
    "test_dataloader = data.DataLoader(data.TensorDataset(test_x, test_y), batch_size=16, num_workers=16, persistent_workers=True)"
   ]
  },
  {
   "cell_type": "code",
   "execution_count": 7,
   "metadata": {},
   "outputs": [],
   "source": [
    "class SequenceLearner(pl.LightningModule):\n",
    "\tdef __init__(self, model, lr):\n",
    "\t\tsuper().__init__()\n",
    "\t\tself.model = model\n",
    "\t\tself.lr = lr\n",
    "\t\tself.loss_fn = nn.CrossEntropyLoss()\n",
    "\t\tself.train_acc = torchmetrics.Accuracy(task=\"multiclass\", num_classes=6)\n",
    "\t\tself.val_acc = torchmetrics.Accuracy(task=\"multiclass\", num_classes=6)\n",
    "\t\tself.test_acc = torchmetrics.Accuracy(task=\"multiclass\", num_classes=6)\n",
    "\t\tself.log_collection = []\n",
    "\n",
    "\tdef training_step(self, batch, batch_idx):\n",
    "\t\tx, y = batch\n",
    "\t\ty_hat, _ = self.model.forward(x)\n",
    "\t\tloss = self.loss_fn(y_hat, y)\n",
    "\t\ty_pred = y_hat.argmax(dim=-1)\n",
    "\t\tself.log_collection.append({\"loss\": loss, \"acc\": self.train_acc(y_pred, y)})\n",
    "\t\treturn {\"loss\": loss}\n",
    "\n",
    "\tdef validation_step(self, batch, batch_idx):\n",
    "\t\tx, y = batch\n",
    "\t\ty_hat, _ = self.model.forward(x)\n",
    "\t\tloss = self.loss_fn(y_hat, y)\n",
    "\t\ty_pred = y_hat.argmax(dim=-1)\n",
    "\t\tself.log_collection.append({\"loss\": loss, \"acc\": self.val_acc(y_pred, y)})\n",
    "\t\treturn {\"loss\": loss}\n",
    "\t\n",
    "\tdef test_step(self, batch, batch_idx):\n",
    "\t\tx, y = batch\n",
    "\t\ty_hat, _ = self.model.forward(x)\n",
    "\t\tloss = self.loss_fn(y_hat, y)\n",
    "\t\ty_pred = y_hat.argmax(dim=-1)\n",
    "\t\tself.log(\"test_loss\", loss)\n",
    "\t\tself.log(\"test_acc\", self.test_acc(y_pred, y))\n",
    "\t\treturn {\"loss\": loss}\n",
    "\n",
    "\tdef on_validation_epoch_end(self):\n",
    "\t\tself.log(\"train_loss\", self.log_collection[0][\"loss\"], on_step=False, on_epoch=True)\n",
    "\t\tself.log(\"train_acc\", self.log_collection[0][\"acc\"], on_step=False, on_epoch=True)\n",
    "\t\tself.log(\"val_loss\", self.log_collection[1][\"loss\"], on_step=False, on_epoch=True)\n",
    "\t\tself.log(\"val_acc\", self.log_collection[1][\"acc\"], on_step=False, on_epoch=True)\n",
    "\t\tself.log_collection = []\n",
    "\n",
    "\n",
    "\tdef configure_optimizers(self):\n",
    "\t\treturn torch.optim.Adam(self.model.parameters(), lr=self.lr)"
   ]
  },
  {
   "cell_type": "code",
   "execution_count": 8,
   "metadata": {},
   "outputs": [],
   "source": [
    "out_features = 6 # Output\n",
    "in_features = 561 # Input"
   ]
  },
  {
   "cell_type": "code",
   "execution_count": 9,
   "metadata": {},
   "outputs": [],
   "source": [
    "wiring = AutoNCP(config[\"num_neurons\"], out_features)"
   ]
  },
  {
   "cell_type": "code",
   "execution_count": 10,
   "metadata": {},
   "outputs": [
    {
     "name": "stderr",
     "output_type": "stream",
     "text": [
      "GPU available: True (cuda), used: True\n",
      "TPU available: False, using: 0 TPU cores\n",
      "IPU available: False, using: 0 IPUs\n",
      "HPU available: False, using: 0 HPUs\n"
     ]
    },
    {
     "name": "stdout",
     "output_type": "stream",
     "text": [
      "alloc!\n"
     ]
    }
   ],
   "source": [
    "ltc_model = LTC(in_features, wiring, batch_first=True)\n",
    "learn = SequenceLearner(ltc_model, lr=config[\"learning_rate\"])\n",
    "\n",
    "log_dir = f\"logs\"\n",
    "\n",
    "logger = CSVLogger(log_dir, name=config[\"model_name\"])\n",
    "\n",
    "trainer = pl.Trainer(\n",
    "\tlogger=logger,\n",
    "\tmax_epochs=config[\"max_epochs\"],\n",
    "  check_val_every_n_epoch=1,\n",
    "  callbacks=[TimingCallback()],\n",
    "\tgradient_clip_val=1  # Clip gradient to stabilize training\n",
    ")"
   ]
  },
  {
   "cell_type": "markdown",
   "metadata": {},
   "source": [
    "Training"
   ]
  },
  {
   "cell_type": "code",
   "execution_count": 11,
   "metadata": {},
   "outputs": [
    {
     "name": "stderr",
     "output_type": "stream",
     "text": [
      "You are using a CUDA device ('NVIDIA GeForce RTX 3070') that has Tensor Cores. To properly utilize them, you should set `torch.set_float32_matmul_precision('medium' | 'high')` which will trade-off precision for performance. For more details, read https://pytorch.org/docs/stable/generated/torch.set_float32_matmul_precision.html#torch.set_float32_matmul_precision\n",
      "Missing logger folder: logs\\ex006\n",
      "LOCAL_RANK: 0 - CUDA_VISIBLE_DEVICES: [0]\n",
      "\n",
      "  | Name      | Type               | Params\n",
      "-------------------------------------------------\n",
      "0 | model     | LTC                | 201 K \n",
      "1 | loss_fn   | CrossEntropyLoss   | 0     \n",
      "2 | train_acc | MulticlassAccuracy | 0     \n",
      "3 | val_acc   | MulticlassAccuracy | 0     \n",
      "4 | test_acc  | MulticlassAccuracy | 0     \n",
      "-------------------------------------------------\n",
      "161 K     Trainable params\n",
      "40.0 K    Non-trainable params\n",
      "201 K     Total params\n",
      "0.805     Total estimated model params size (MB)\n"
     ]
    },
    {
     "name": "stdout",
     "output_type": "stream",
     "text": [
      "Epoch 199: 100%|██████████| 414/414 [00:48<00:00,  8.57it/s, v_num=0]      "
     ]
    },
    {
     "name": "stderr",
     "output_type": "stream",
     "text": [
      "`Trainer.fit` stopped: `max_epochs=200` reached.\n"
     ]
    },
    {
     "name": "stdout",
     "output_type": "stream",
     "text": [
      "Epoch 199: 100%|██████████| 414/414 [00:48<00:00,  8.56it/s, v_num=0]\n"
     ]
    }
   ],
   "source": [
    "trainer.fit(learn, train_dataloader, val_dataloader)"
   ]
  },
  {
   "cell_type": "markdown",
   "metadata": {},
   "source": [
    "Testing and Ploting Results"
   ]
  },
  {
   "cell_type": "code",
   "execution_count": 12,
   "metadata": {},
   "outputs": [
    {
     "name": "stderr",
     "output_type": "stream",
     "text": [
      "LOCAL_RANK: 0 - CUDA_VISIBLE_DEVICES: [0]\n"
     ]
    },
    {
     "name": "stdout",
     "output_type": "stream",
     "text": [
      "Testing DataLoader 0: 100%|██████████| 185/185 [00:06<00:00, 29.34it/s]\n"
     ]
    },
    {
     "data": {
      "text/html": [
       "<pre style=\"white-space:pre;overflow-x:auto;line-height:normal;font-family:Menlo,'DejaVu Sans Mono',consolas,'Courier New',monospace\">┏━━━━━━━━━━━━━━━━━━━━━━━━━━━┳━━━━━━━━━━━━━━━━━━━━━━━━━━━┓\n",
       "┃<span style=\"font-weight: bold\">        Test metric        </span>┃<span style=\"font-weight: bold\">       DataLoader 0        </span>┃\n",
       "┡━━━━━━━━━━━━━━━━━━━━━━━━━━━╇━━━━━━━━━━━━━━━━━━━━━━━━━━━┩\n",
       "│<span style=\"color: #008080; text-decoration-color: #008080\">         test_acc          </span>│<span style=\"color: #800080; text-decoration-color: #800080\">    0.9209365248680115     </span>│\n",
       "│<span style=\"color: #008080; text-decoration-color: #008080\">         test_loss         </span>│<span style=\"color: #800080; text-decoration-color: #800080\">     0.936504602432251     </span>│\n",
       "└───────────────────────────┴───────────────────────────┘\n",
       "</pre>\n"
      ],
      "text/plain": [
       "┏━━━━━━━━━━━━━━━━━━━━━━━━━━━┳━━━━━━━━━━━━━━━━━━━━━━━━━━━┓\n",
       "┃\u001b[1m \u001b[0m\u001b[1m       Test metric       \u001b[0m\u001b[1m \u001b[0m┃\u001b[1m \u001b[0m\u001b[1m      DataLoader 0       \u001b[0m\u001b[1m \u001b[0m┃\n",
       "┡━━━━━━━━━━━━━━━━━━━━━━━━━━━╇━━━━━━━━━━━━━━━━━━━━━━━━━━━┩\n",
       "│\u001b[36m \u001b[0m\u001b[36m        test_acc         \u001b[0m\u001b[36m \u001b[0m│\u001b[35m \u001b[0m\u001b[35m   0.9209365248680115    \u001b[0m\u001b[35m \u001b[0m│\n",
       "│\u001b[36m \u001b[0m\u001b[36m        test_loss        \u001b[0m\u001b[36m \u001b[0m│\u001b[35m \u001b[0m\u001b[35m    0.936504602432251    \u001b[0m\u001b[35m \u001b[0m│\n",
       "└───────────────────────────┴───────────────────────────┘\n"
      ]
     },
     "metadata": {},
     "output_type": "display_data"
    },
    {
     "data": {
      "text/plain": [
       "[{'test_loss': 0.936504602432251, 'test_acc': 0.9209365248680115}]"
      ]
     },
     "execution_count": 12,
     "metadata": {},
     "output_type": "execute_result"
    }
   ],
   "source": [
    "trainer.test(learn, test_dataloader)"
   ]
  },
  {
   "cell_type": "code",
   "execution_count": 13,
   "metadata": {},
   "outputs": [
    {
     "data": {
      "image/png": "[encoded data removed]",
      "text/plain": [
       "<Figure size 1200x600 with 1 Axes>"
      ]
     },
     "metadata": {},
     "output_type": "display_data"
    }
   ],
   "source": [
    "latest_csv = get_latest_csv(logger.log_dir)\n",
    "metrics = pd.read_csv(latest_csv)\n",
    "\n",
    "steps = metrics[\"epoch\"]\n",
    "\n",
    "plt.figure(figsize=(12, 6))\n",
    "\n",
    "plt.subplot(1, 2, 1)\n",
    "plt.plot(steps, metrics[\"train_acc\"], label='Train Accuracy')\n",
    "plt.plot(steps, metrics[\"val_acc\"], label='Validation Accuracy')\n",
    "plt.xlabel('Epoch')\n",
    "plt.ylabel('Accuracy')\n",
    "plt.legend()\n",
    "\n",
    "plt.show()\n"
   ]
  },
  {
   "cell_type": "markdown",
   "metadata": {},
   "source": [
    "Saving the trained model"
   ]
  },
  {
   "cell_type": "code",
   "execution_count": 14,
   "metadata": {},
   "outputs": [],
   "source": [
    "if not os.path.exists(\"models\"):\n",
    "    os.makedirs(\"models\")\n",
    "\n",
    "torch.save(ltc_model, f\"models/{config[\"model_name\"]}.pt\")"
   ]
  },
  {
   "cell_type": "markdown",
   "metadata": {},
   "source": [
    "Saving the configuration used"
   ]
  },
  {
   "cell_type": "code",
   "execution_count": 15,
   "metadata": {},
   "outputs": [],
   "source": [
    "config_file_path = os.path.join(logger.log_dir, \"config.json\")\n",
    "with open(config_file_path, 'w') as config_file:\n",
    "\tjson.dump(config, config_file, indent=4)"
   ]
  },
  {
   "cell_type": "markdown",
   "metadata": {},
   "source": [
    "Notification for end of training"
   ]
  },
  {
   "cell_type": "code",
   "execution_count": 16,
   "metadata": {},
   "outputs": [],
   "source": [
    "notification.notify(\n",
    "\ttitle=\"Training ended\",\n",
    "\tmessage=f\"The training of the model {config[\"model_name\"]} with {config[\"max_epochs\"]} epochs has been completed.\",\n",
    "\ttimeout=10\n",
    ")"
   ]
  }
 ],
 "metadata": {
  "kernelspec": {
   "display_name": "Python 3",
   "language": "python",
   "name": "python3"
  },
  "language_info": {
   "codemirror_mode": {
    "name": "ipython",
    "version": 3
   },
   "file_extension": ".py",
   "mimetype": "text/x-python",
   "name": "python",
   "nbconvert_exporter": "python",
   "pygments_lexer": "ipython3",
   "version": "3.12.3"
  }
 },
 "nbformat": 4,
 "nbformat_minor": 2
}
