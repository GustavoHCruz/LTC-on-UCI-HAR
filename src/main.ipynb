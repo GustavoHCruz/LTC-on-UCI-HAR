{
 "cells": [
  {
   "cell_type": "markdown",
   "metadata": {},
   "source": [
    "Libraries and Imports"
   ]
  },
  {
   "cell_type": "code",
   "execution_count": 1,
   "metadata": {},
   "outputs": [],
   "source": [
    "import json\n",
    "import os\n",
    "import sys\n",
    "\n",
    "import matplotlib.pyplot as plt\n",
    "import numpy as np\n",
    "import pandas as pd\n",
    "import pytorch_lightning as pl\n",
    "import torch\n",
    "import torch.nn as nn\n",
    "import torch.utils.data as data\n",
    "import torchmetrics\n",
    "from ncps.torch import LTC\n",
    "from ncps.wirings import AutoNCP\n",
    "from plyer import notification\n",
    "from pytorch_lightning.callbacks import ModelCheckpoint\n",
    "from pytorch_lightning.loggers import CSVLogger\n",
    "\n",
    "sys.path.append(os.path.abspath(\"funcs\"))\n",
    "\n",
    "from config_reading import read_and_validate_json\n",
    "from latest_log import get_latest_csv\n",
    "from timer_callback import TimingCallback"
   ]
  },
  {
   "cell_type": "markdown",
   "metadata": {},
   "source": [
    "Opening configuration file"
   ]
  },
  {
   "cell_type": "code",
   "execution_count": 2,
   "metadata": {},
   "outputs": [],
   "source": [
    "config = read_and_validate_json(\"config.json\")"
   ]
  },
  {
   "cell_type": "markdown",
   "metadata": {},
   "source": [
    "Setting the CUDA float32 precision."
   ]
  },
  {
   "cell_type": "code",
   "execution_count": 3,
   "metadata": {},
   "outputs": [],
   "source": [
    "torch.set_float32_matmul_precision(config[\"float_precision\"])"
   ]
  },
  {
   "cell_type": "markdown",
   "metadata": {},
   "source": [
    "Set the seed manually to ensure reproducibility"
   ]
  },
  {
   "cell_type": "code",
   "execution_count": 4,
   "metadata": {},
   "outputs": [
    {
     "name": "stderr",
     "output_type": "stream",
     "text": [
      "Seed set to 115\n"
     ]
    },
    {
     "data": {
      "text/plain": [
       "115"
      ]
     },
     "execution_count": 4,
     "metadata": {},
     "output_type": "execute_result"
    }
   ],
   "source": [
    "torch.manual_seed(config[\"seed\"])\n",
    "torch.cuda.manual_seed(config[\"seed\"])\n",
    "torch.cuda.manual_seed_all(config[\"seed\"])\n",
    "np.random.seed(config[\"seed\"])\n",
    "pl.seed_everything(config[\"seed\"], workers=True)"
   ]
  },
  {
   "cell_type": "markdown",
   "metadata": {},
   "source": [
    "Reading the dataset."
   ]
  },
  {
   "cell_type": "code",
   "execution_count": 5,
   "metadata": {},
   "outputs": [],
   "source": [
    "train_x = torch.load(os.path.join(config[\"save_path\"], \"tensor_train_x.pt\"))\n",
    "train_y = torch.load(os.path.join(config[\"save_path\"], \"tensor_train_y.pt\"))\n",
    "val_x = torch.load(os.path.join(config[\"save_path\"], \"tensor_val_x.pt\"))\n",
    "val_y = torch.load(os.path.join(config[\"save_path\"], \"tensor_val_y.pt\"))\n",
    "test_x = torch.load(os.path.join(config[\"save_path\"], \"tensor_test_x.pt\"))\n",
    "test_y = torch.load(os.path.join(config[\"save_path\"], \"tensor_test_y.pt\"))"
   ]
  },
  {
   "cell_type": "code",
   "execution_count": 6,
   "metadata": {},
   "outputs": [],
   "source": [
    "has_validation = config[\"validation_proportion\"] > 0"
   ]
  },
  {
   "cell_type": "markdown",
   "metadata": {},
   "source": [
    "Defining loaders, models phases and model configuration"
   ]
  },
  {
   "cell_type": "code",
   "execution_count": 7,
   "metadata": {},
   "outputs": [
    {
     "data": {
      "text/plain": [
       "6616"
      ]
     },
     "execution_count": 7,
     "metadata": {},
     "output_type": "execute_result"
    }
   ],
   "source": [
    "train_x.shape[0]"
   ]
  },
  {
   "cell_type": "code",
   "execution_count": 8,
   "metadata": {},
   "outputs": [
    {
     "data": {
      "text/plain": [
       "2947"
      ]
     },
     "execution_count": 8,
     "metadata": {},
     "output_type": "execute_result"
    }
   ],
   "source": [
    "test_x.shape[0]"
   ]
  },
  {
   "cell_type": "code",
   "execution_count": 9,
   "metadata": {},
   "outputs": [
    {
     "data": {
      "text/plain": [
       "736"
      ]
     },
     "execution_count": 9,
     "metadata": {},
     "output_type": "execute_result"
    }
   ],
   "source": [
    "val_x.shape[0]"
   ]
  },
  {
   "cell_type": "code",
   "execution_count": null,
   "metadata": {},
   "outputs": [],
   "source": [
    "if config[\"batch_size\"] == \"full\":\n",
    "  config[\"batch_size\"] = 6616"
   ]
  },
  {
   "cell_type": "code",
   "execution_count": null,
   "metadata": {},
   "outputs": [],
   "source": [
    "train_dataloader = data.DataLoader(data.TensorDataset(train_x, train_y), batch_size=6616, shuffle=True, num_workers=16, persistent_workers=True)\n",
    "if has_validation:\n",
    "\tval_dataloader = data.DataLoader(data.TensorDataset(val_x, val_y), batch_size=735, num_workers=16, persistent_workers=True)\n",
    "test_dataloader = data.DataLoader(data.TensorDataset(test_x, test_y), batch_size=2947, num_workers=16, persistent_workers=True)"
   ]
  },
  {
   "cell_type": "code",
   "execution_count": null,
   "metadata": {},
   "outputs": [],
   "source": [
    "class SequenceLearner(pl.LightningModule):\n",
    "\tdef __init__(self, model, lr):\n",
    "\t\tsuper().__init__()\n",
    "\t\tself.model = model\n",
    "\t\tself.lr = lr\n",
    "\t\tself.loss_fn = nn.CrossEntropyLoss()\n",
    "\t\tself.train_acc = torchmetrics.Accuracy(task=\"multiclass\", num_classes=6)\n",
    "\t\tself.val_acc = torchmetrics.Accuracy(task=\"multiclass\", num_classes=6)\n",
    "\t\tself.test_acc = torchmetrics.Accuracy(task=\"multiclass\", num_classes=6)\n",
    "\t\tself.log_collection = []\n",
    "\n",
    "\tdef training_step(self, batch, batch_idx):\n",
    "\t\tx, y = batch\n",
    "\t\ty_hat, _ = self.model.forward(x)\n",
    "\t\tloss = self.loss_fn(y_hat, y)\n",
    "\t\ty_pred = y_hat.argmax(dim=-1)\n",
    "\t\tself.log_collection.append({\"loss\": loss, \"acc\": self.train_acc(y_pred, y)})\n",
    "\t\treturn {\"loss\": loss}\n",
    "\n",
    "\tdef validation_step(self, batch, batch_idx):\n",
    "\t\tx, y = batch\n",
    "\t\ty_hat, _ = self.model.forward(x)\n",
    "\t\tloss = self.loss_fn(y_hat, y)\n",
    "\t\ty_pred = y_hat.argmax(dim=-1)\n",
    "\t\tself.log_collection.append({\"loss\": loss, \"acc\": self.val_acc(y_pred, y)})\n",
    "\t\treturn {\"loss\": loss}\n",
    "\t\n",
    "\tdef test_step(self, batch, batch_idx):\n",
    "\t\tx, y = batch\n",
    "\t\ty_hat, _ = self.model.forward(x)\n",
    "\t\tloss = self.loss_fn(y_hat, y)\n",
    "\t\ty_pred = y_hat.argmax(dim=-1)\n",
    "\t\tself.log(\"test_loss\", loss)\n",
    "\t\tself.log(\"test_acc\", self.test_acc(y_pred, y))\n",
    "\t\treturn {\"loss\": loss}\n",
    "\n",
    "\tdef on_validation_epoch_end(self):\n",
    "\t\tself.log(\"train_loss\", self.log_collection[0][\"loss\"], on_step=False, on_epoch=True)\n",
    "\t\tself.log(\"train_acc\", self.log_collection[0][\"acc\"], on_step=False, on_epoch=True)\n",
    "\t\tself.log(\"val_loss\", self.log_collection[1][\"loss\"], on_step=False, on_epoch=True)\n",
    "\t\tself.log(\"val_acc\", self.log_collection[1][\"acc\"], on_step=False, on_epoch=True)\n",
    "\t\tself.log_collection = []\n",
    "\n",
    "\n",
    "\tdef configure_optimizers(self):\n",
    "\t\treturn torch.optim.Adam(self.model.parameters(), lr=self.lr)"
   ]
  },
  {
   "cell_type": "code",
   "execution_count": null,
   "metadata": {},
   "outputs": [],
   "source": [
    "out_features = 6 # Output\n",
    "in_features = 561 # Input"
   ]
  },
  {
   "cell_type": "code",
   "execution_count": null,
   "metadata": {},
   "outputs": [],
   "source": [
    "wiring = AutoNCP(config[\"num_neurons\"], out_features)"
   ]
  },
  {
   "cell_type": "code",
   "execution_count": null,
   "metadata": {},
   "outputs": [],
   "source": [
    "ltc_model = LTC(in_features, wiring, batch_first=True)\n",
    "learn = SequenceLearner(ltc_model, lr=config[\"learning_rate\"])\n",
    "\n",
    "log_dir = f\"logs\"\n",
    "logger = CSVLogger(log_dir, name=config[\"model_name\"])\n",
    "\n",
    "checkpoint_dir = f\"{log_dir}/{config[\"model_name\"]}/checkpoints\"\n",
    "last_checkpoint_path = f\"{checkpoint_dir}/last.ckpt\"\n",
    "checkpoint_callback = ModelCheckpoint(\n",
    "    dirpath=checkpoint_dir,\n",
    "    filename=\"{epoch}-{val_loss:.2f}\",\n",
    "    save_top_k=1,\n",
    "    monitor=\"val_loss\",\n",
    "    mode=\"min\",\n",
    "    save_last=True\n",
    ")\n",
    "\n",
    "trainer = pl.Trainer(\n",
    "\tlogger=logger,\n",
    "\tmax_epochs=config[\"max_epochs\"],\n",
    "  check_val_every_n_epoch=1,\n",
    "  callbacks=[TimingCallback(), checkpoint_callback],\n",
    "\tgradient_clip_val=1  # Clip gradient to stabilize training\n",
    ")"
   ]
  },
  {
   "cell_type": "markdown",
   "metadata": {},
   "source": [
    "Training"
   ]
  },
  {
   "cell_type": "code",
   "execution_count": 16,
   "metadata": {},
   "outputs": [],
   "source": [
    "if has_validation:\n",
    "\ttrainer.fit(learn, train_dataloader, val_dataloader)\n",
    "else:\n",
    "\ttrainer.fit(learn, train_dataloader)"
   ]
  },
  {
   "cell_type": "markdown",
   "metadata": {},
   "source": [
    "Testing and Ploting Results"
   ]
  },
  {
   "cell_type": "code",
   "execution_count": null,
   "metadata": {},
   "outputs": [],
   "source": [
    "trainer.test(learn, test_dataloader)"
   ]
  },
  {
   "cell_type": "code",
   "execution_count": null,
   "metadata": {},
   "outputs": [],
   "source": [
    "latest_csv = get_latest_csv(logger.log_dir)\n",
    "metrics = pd.read_csv(latest_csv)\n",
    "\n",
    "steps = metrics[\"epoch\"]\n",
    "\n",
    "plt.figure(figsize=(12, 6))\n",
    "\n",
    "plt.subplot(1, 2, 1)\n",
    "plt.plot(steps, metrics[\"train_acc\"], label='Train Accuracy')\n",
    "if has_validation:\n",
    "\tplt.plot(steps, metrics[\"val_acc\"], label='Validation Accuracy')\n",
    "plt.xlabel('Epoch')\n",
    "plt.ylabel('Accuracy')\n",
    "plt.legend()\n",
    "\n",
    "plt.show()"
   ]
  },
  {
   "cell_type": "code",
   "execution_count": null,
   "metadata": {},
   "outputs": [],
   "source": [
    "latest_csv = get_latest_csv(logger.log_dir)\n",
    "metrics = pd.read_csv(latest_csv)\n",
    "\n",
    "steps = metrics[\"epoch\"]\n",
    "\n",
    "plt.figure(figsize=(12, 6))\n",
    "\n",
    "plt.subplot(1, 2, 1)\n",
    "plt.plot(steps, metrics[\"train_loss\"], label='Train Loss')\n",
    "if has_validation:\n",
    "\tplt.plot(steps, metrics[\"val_loss\"], label='Validation Loss')\n",
    "plt.xlabel('Epoch')\n",
    "plt.ylabel('Loss')\n",
    "plt.legend()\n",
    "\n",
    "plt.show()"
   ]
  },
  {
   "cell_type": "markdown",
   "metadata": {},
   "source": [
    "Saving the trained model"
   ]
  },
  {
   "cell_type": "code",
   "execution_count": null,
   "metadata": {},
   "outputs": [],
   "source": [
    "if not os.path.exists(\"models\"):\n",
    "    os.makedirs(\"models\")\n",
    "\n",
    "torch.save(ltc_model, f\"models/{config[\"model_name\"]}.pt\")"
   ]
  },
  {
   "cell_type": "markdown",
   "metadata": {},
   "source": [
    "Saving the configuration used"
   ]
  },
  {
   "cell_type": "code",
   "execution_count": null,
   "metadata": {},
   "outputs": [],
   "source": [
    "config_file_path = os.path.join(logger.log_dir, \"config.json\")\n",
    "with open(config_file_path, 'w') as config_file:\n",
    "\tjson.dump(config, config_file, indent=2)"
   ]
  },
  {
   "cell_type": "markdown",
   "metadata": {},
   "source": [
    "Notification for end of training"
   ]
  },
  {
   "cell_type": "code",
   "execution_count": null,
   "metadata": {},
   "outputs": [],
   "source": [
    "notification.notify(\n",
    "\ttitle=\"Training ended\",\n",
    "\tmessage=f\"The training of the model {config[\"model_name\"]} with {config[\"max_epochs\"]} epochs has been completed.\",\n",
    "\ttimeout=10\n",
    ")"
   ]
  }
 ],
 "metadata": {
  "kernelspec": {
   "display_name": "Python 3",
   "language": "python",
   "name": "python3"
  },
  "language_info": {
   "codemirror_mode": {
    "name": "ipython",
    "version": 3
   },
   "file_extension": ".py",
   "mimetype": "text/x-python",
   "name": "python",
   "nbconvert_exporter": "python",
   "pygments_lexer": "ipython3",
   "version": "3.12.3"
  }
 },
 "nbformat": 4,
 "nbformat_minor": 2
}
