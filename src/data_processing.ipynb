{
 "cells": [
  {
   "cell_type": "code",
   "execution_count": 1,
   "metadata": {},
   "outputs": [],
   "source": [
    "import numpy as np\n",
    "import os\n",
    "import sys\n",
    "import torch\n",
    "from sklearn.preprocessing import StandardScaler\n",
    "\n",
    "sys.path.append(os.path.abspath(\"funcs\"))\n",
    "\n",
    "from config_reading import read_and_validate_json"
   ]
  },
  {
   "cell_type": "code",
   "execution_count": 2,
   "metadata": {},
   "outputs": [],
   "source": [
    "config = read_and_validate_json(\"config.json\")"
   ]
  },
  {
   "cell_type": "code",
   "execution_count": 3,
   "metadata": {},
   "outputs": [],
   "source": [
    "train_x = np.loadtxt(\"dataset/uci-har/train/X_train.txt\")\n",
    "train_y = np.loadtxt(\"dataset/uci-har/train/y_train.txt\").astype(int) - 1\n",
    "\n",
    "test_x = np.loadtxt(\"dataset/uci-har/test/X_test.txt\")\n",
    "test_y = np.loadtxt(\"dataset/uci-har/test/y_test.txt\").astype(int) - 1"
   ]
  },
  {
   "cell_type": "code",
   "execution_count": 4,
   "metadata": {},
   "outputs": [],
   "source": [
    "scaler = StandardScaler()\n",
    "train_x = scaler.fit_transform(train_x)\n",
    "test_x = scaler.transform(test_x)"
   ]
  },
  {
   "cell_type": "code",
   "execution_count": 5,
   "metadata": {},
   "outputs": [],
   "source": [
    "val_rate = config[\"validation_proportion\"]\n",
    "original_len = train_x.shape[0]\n",
    "crop_position = int(original_len * (1-val_rate))\n",
    "train_len = crop_position\n",
    "val_len = original_len - crop_position\n",
    "\n",
    "train_x, val_x = train_x[:crop_position], train_x[crop_position:]\n",
    "train_y, val_y = train_y[:crop_position], train_y[crop_position:]"
   ]
  },
  {
   "cell_type": "code",
   "execution_count": 6,
   "metadata": {},
   "outputs": [],
   "source": [
    "train_x = torch.tensor(train_x, dtype=torch.float32)\n",
    "train_y = torch.tensor(train_y, dtype=torch.long)\n",
    "val_x = torch.tensor(val_x, dtype=torch.float32)\n",
    "val_y = torch.tensor(val_y, dtype=torch.long)\n",
    "test_x = torch.tensor(test_x, dtype=torch.float32)\n",
    "test_y = torch.tensor(test_y, dtype=torch.long)"
   ]
  },
  {
   "cell_type": "code",
   "execution_count": 7,
   "metadata": {},
   "outputs": [],
   "source": [
    "save_path = config[\"save_path\"]\n",
    "\n",
    "os.makedirs(save_path, exist_ok=True)"
   ]
  },
  {
   "cell_type": "code",
   "execution_count": 8,
   "metadata": {},
   "outputs": [],
   "source": [
    "torch.save(train_x, os.path.join(save_path, f\"tensor_train_x.pt\"))\n",
    "torch.save(train_y, os.path.join(save_path, f\"tensor_train_y.pt\"))\n",
    "torch.save(val_x, os.path.join(save_path, f\"tensor_val_x.pt\"))\n",
    "torch.save(val_y, os.path.join(save_path, f\"tensor_val_y.pt\"))\n",
    "torch.save(test_x, os.path.join(save_path, f\"tensor_test_x.pt\"))\n",
    "torch.save(test_y, os.path.join(save_path, f\"tensor_test_y.pt\"))"
   ]
  }
 ],
 "metadata": {
  "kernelspec": {
   "display_name": "Python 3",
   "language": "python",
   "name": "python3"
  },
  "language_info": {
   "codemirror_mode": {
    "name": "ipython",
    "version": 3
   },
   "file_extension": ".py",
   "mimetype": "text/x-python",
   "name": "python",
   "nbconvert_exporter": "python",
   "pygments_lexer": "ipython3",
   "version": "3.12.3"
  }
 },
 "nbformat": 4,
 "nbformat_minor": 2
}
