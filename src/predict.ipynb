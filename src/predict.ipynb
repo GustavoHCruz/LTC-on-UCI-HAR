{
 "cells": [
  {
   "cell_type": "code",
   "execution_count": null,
   "metadata": {},
   "outputs": [],
   "source": [
    "import os\n",
    "import torch\n",
    "import sys\n",
    "\n",
    "sys.path.append(os.path.abspath(\"funcs\"))\n",
    "\n",
    "from config_reading import read_and_validate_training_json"
   ]
  },
  {
   "cell_type": "code",
   "execution_count": null,
   "metadata": {},
   "outputs": [],
   "source": [
    "config = read_and_validate_training_json()"
   ]
  },
  {
   "cell_type": "code",
   "execution_count": null,
   "metadata": {},
   "outputs": [],
   "source": [
    "ltc_model = torch.load(f\"models/{config[\"model_name\"]}.pt\")"
   ]
  },
  {
   "cell_type": "code",
   "execution_count": null,
   "metadata": {},
   "outputs": [],
   "source": [
    "test_x = torch.load(os.path.join(config[\"save_path\"], \"tensor_test_x.pt\"))\n",
    "test_y = torch.load(os.path.join(config[\"save_path\"], \"tensor_test_y.pt\"))"
   ]
  },
  {
   "cell_type": "code",
   "execution_count": null,
   "metadata": {},
   "outputs": [],
   "source": [
    "prediction_results = ltc_model(test_x)"
   ]
  },
  {
   "cell_type": "code",
   "execution_count": null,
   "metadata": {},
   "outputs": [],
   "source": [
    "hits = 0 # Counter for the amount of correct awnsers\n",
    "test_len = test_x.shape[0]\n",
    "\n",
    "for i in range(0, test_len):\n",
    "  prediction = prediction_results[0][i].argmax()\n",
    "  label_response = test_y[i]\n",
    "\n",
    "  if prediction == label_response:\n",
    "    hits += 1\n",
    "\n",
    "print(f\"Model's Accuracy On Test Data: {hits/test_len:.4f}\")"
   ]
  }
 ],
 "metadata": {
  "kernelspec": {
   "display_name": "Python 3",
   "language": "python",
   "name": "python3"
  },
  "language_info": {
   "codemirror_mode": {
    "name": "ipython",
    "version": 3
   },
   "file_extension": ".py",
   "mimetype": "text/x-python",
   "name": "python",
   "nbconvert_exporter": "python",
   "pygments_lexer": "ipython3",
   "version": "3.12.2"
  }
 },
 "nbformat": 4,
 "nbformat_minor": 2
}
