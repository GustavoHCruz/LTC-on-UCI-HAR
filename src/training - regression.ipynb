{
 "cells": [
  {
   "cell_type": "markdown",
   "metadata": {},
   "source": [
    "Libraries and Imports"
   ]
  },
  {
   "cell_type": "code",
   "execution_count": null,
   "metadata": {},
   "outputs": [],
   "source": [
    "import json\n",
    "import os\n",
    "import sys\n",
    "\n",
    "import numpy as np\n",
    "import pytorch_lightning as pl\n",
    "import torch\n",
    "import torch.nn as nn\n",
    "import torch.utils.data as data\n",
    "from ncps.torch import LTC\n",
    "from ncps.wirings import AutoNCP\n",
    "from plyer import notification\n",
    "from pytorch_lightning.loggers import CSVLogger\n",
    "\n",
    "sys.path.append(os.path.abspath(\"funcs\"))\n",
    "\n",
    "from config_reading import read_configs\n",
    "from timer_callback import TimingCallback"
   ]
  },
  {
   "cell_type": "markdown",
   "metadata": {},
   "source": [
    "Opening configuration file"
   ]
  },
  {
   "cell_type": "code",
   "execution_count": null,
   "metadata": {},
   "outputs": [],
   "source": [
    "configs = read_configs()\n",
    "processing_configs = configs[\"processing\"]\n",
    "training_configs = configs[\"training\"]"
   ]
  },
  {
   "cell_type": "markdown",
   "metadata": {},
   "source": [
    "Defining Model Name"
   ]
  },
  {
   "cell_type": "code",
   "execution_count": null,
   "metadata": {},
   "outputs": [],
   "source": [
    "model_name = f\"r_{configs['model_name']}\""
   ]
  },
  {
   "cell_type": "markdown",
   "metadata": {},
   "source": [
    "Setting the CUDA float32 precision."
   ]
  },
  {
   "cell_type": "code",
   "execution_count": null,
   "metadata": {},
   "outputs": [],
   "source": [
    "torch.set_float32_matmul_precision(training_configs[\"float_precision\"])"
   ]
  },
  {
   "cell_type": "markdown",
   "metadata": {},
   "source": [
    "Set the seed manually to ensure reproducibility"
   ]
  },
  {
   "cell_type": "code",
   "execution_count": null,
   "metadata": {},
   "outputs": [],
   "source": [
    "seed = training_configs[\"seed\"]\n",
    "\n",
    "torch.manual_seed(seed)\n",
    "torch.cuda.manual_seed(seed)\n",
    "torch.cuda.manual_seed_all(seed)\n",
    "np.random.seed(seed)\n",
    "pl.seed_everything(seed, workers=True)"
   ]
  },
  {
   "cell_type": "markdown",
   "metadata": {},
   "source": [
    "Reading the dataset."
   ]
  },
  {
   "cell_type": "code",
   "execution_count": null,
   "metadata": {},
   "outputs": [],
   "source": [
    "has_validation = processing_configs[\"validation_proportion\"] > 0"
   ]
  },
  {
   "cell_type": "code",
   "execution_count": null,
   "metadata": {},
   "outputs": [],
   "source": [
    "train_x = torch.load(os.path.join(processing_configs[\"save_path\"], \"tensor_train_x.pt\"))\n",
    "train_y = torch.load(os.path.join(processing_configs[\"save_path\"], \"tensor_train_y.pt\"))\n",
    "if has_validation:\n",
    "\tval_x = torch.load(os.path.join(processing_configs[\"save_path\"], \"tensor_val_x.pt\"))\n",
    "\tval_y = torch.load(os.path.join(processing_configs[\"save_path\"], \"tensor_val_y.pt\"))\n",
    "test_x = torch.load(os.path.join(processing_configs[\"save_path\"], \"tensor_test_x.pt\"))\n",
    "test_y = torch.load(os.path.join(processing_configs[\"save_path\"], \"tensor_test_y.pt\"))"
   ]
  },
  {
   "cell_type": "markdown",
   "metadata": {},
   "source": [
    "Converting the labels to a label-positional list"
   ]
  },
  {
   "cell_type": "code",
   "execution_count": null,
   "metadata": {},
   "outputs": [],
   "source": [
    "conversion_dict = {0: [1, 0, 0, 0, 0, 0], 1: [0, 1, 0, 0, 0, 0], \n",
    "                   2: [0, 0, 1, 0, 0, 0], 3: [0, 0, 0, 1, 0, 0], \n",
    "                   4: [0, 0, 0, 0, 1, 0], 5: [0, 0, 0, 0, 0, 1]}\n",
    "\n",
    "def convert_to_label_positional(data):\n",
    "  result = []\n",
    "  for e in data:\n",
    "    result.append(conversion_dict[e])\n",
    "\n",
    "  return torch.tensor(np.array(result), dtype=torch.float32)\n",
    "\n",
    "train_y = convert_to_label_positional(train_y.numpy())\n",
    "if has_validation:\n",
    "\tval_y = convert_to_label_positional(val_y.numpy())\n",
    "test_y = convert_to_label_positional(test_y.numpy())"
   ]
  },
  {
   "cell_type": "markdown",
   "metadata": {},
   "source": [
    "Defining loaders, models phases and model configuration"
   ]
  },
  {
   "cell_type": "code",
   "execution_count": null,
   "metadata": {},
   "outputs": [],
   "source": [
    "train_batch, val_batch, test_batch = training_configs[\"batch_sizes\"]\n",
    "\n",
    "if train_batch == \"all\":\n",
    "  train_batch = train_x.shape[0]\n",
    "if has_validation and val_batch == \"all\":\n",
    "  val_batch = val_x.shape[0]\n",
    "if test_batch == \"all\":\n",
    "  test_batch = test_x.shape[0]"
   ]
  },
  {
   "cell_type": "code",
   "execution_count": null,
   "metadata": {},
   "outputs": [],
   "source": [
    "train_dataloader = data.DataLoader(data.TensorDataset(train_x, train_y), shuffle=True, num_workers=16, persistent_workers=True, batch_size=train_batch)\n",
    "if has_validation:\n",
    "\tval_dataloader = data.DataLoader(data.TensorDataset(val_x, val_y), num_workers=16, persistent_workers=True, batch_size=val_batch)\n",
    "test_dataloader = data.DataLoader(data.TensorDataset(test_x, test_y), num_workers=16, persistent_workers=True, batch_size=test_batch)"
   ]
  },
  {
   "cell_type": "code",
   "execution_count": null,
   "metadata": {},
   "outputs": [],
   "source": [
    "class SequenceLearner(pl.LightningModule):\n",
    "  def __init__(self, model, lr):\n",
    "    super().__init__()\n",
    "    self.model = model\n",
    "    self.lr = lr\n",
    "    self.loss = nn.MSELoss()\n",
    "\n",
    "  def training_step(self, batch):\n",
    "    x, y = batch\n",
    "    y_hat, _ = self.model.forward(x)\n",
    "    y_hat = y_hat.view_as(y) \n",
    "    loss = nn.MSELoss()(y_hat, y)\n",
    "    self.log(\"train_loss\", loss, on_step=False, on_epoch=True)\n",
    "    return {\"loss\": loss}\n",
    "\n",
    "  def validation_step(self, batch):\n",
    "    x, y = batch\n",
    "    y_hat, _ = self.model.forward(x)\n",
    "    y_hat = y_hat.view_as(y)\n",
    "    loss = nn.MSELoss()(y_hat, y)\n",
    "    self.log(\"val_loss\", loss, on_step=False, on_epoch=True)\n",
    "    return {\"loss\": loss}\n",
    "\n",
    "  def test_step(self, batch):\n",
    "    x, y = batch\n",
    "    y_hat, _ = self.model.forward(x)\n",
    "    y_hat = y_hat.view_as(y)\n",
    "    loss = nn.MSELoss()(y_hat, y)\n",
    "    self.log(\"test_loss\", loss, prog_bar=True)\n",
    "    return {\"loss\": loss}\n",
    "    \n",
    "  def configure_optimizers(self):\n",
    "    return torch.optim.Adam(self.model.parameters(), lr=self.lr)"
   ]
  },
  {
   "cell_type": "code",
   "execution_count": null,
   "metadata": {},
   "outputs": [],
   "source": [
    "out_features = 6 # Output\n",
    "in_features = 561 # Input"
   ]
  },
  {
   "cell_type": "code",
   "execution_count": null,
   "metadata": {},
   "outputs": [],
   "source": [
    "wiring = AutoNCP(training_configs[\"num_neurons\"], out_features)"
   ]
  },
  {
   "cell_type": "code",
   "execution_count": null,
   "metadata": {},
   "outputs": [],
   "source": [
    "ltc_model = LTC(in_features, wiring, batch_first=True)\n",
    "learn = SequenceLearner(ltc_model, lr=training_configs[\"learning_rate\"])\n",
    "\n",
    "log_dir = f\"logs\"\n",
    "logger = CSVLogger(log_dir, name=model_name)\n",
    "\n",
    "trainer = pl.Trainer(\n",
    "\tlog_every_n_steps=1,\n",
    "\tlogger=logger,\n",
    "\tmax_epochs=training_configs[\"max_epochs\"],\n",
    "\tcallbacks=[TimingCallback()],\n",
    "\tgradient_clip_val=1,  # Clip gradient to stabilize training\n",
    ")"
   ]
  },
  {
   "cell_type": "markdown",
   "metadata": {},
   "source": [
    "Training"
   ]
  },
  {
   "cell_type": "code",
   "execution_count": null,
   "metadata": {},
   "outputs": [],
   "source": [
    "if has_validation:\n",
    "\ttrainer.fit(learn, train_dataloader, val_dataloader)\n",
    "else:\n",
    "\ttrainer.fit(learn, train_dataloader)"
   ]
  },
  {
   "cell_type": "markdown",
   "metadata": {},
   "source": [
    "Testing"
   ]
  },
  {
   "cell_type": "code",
   "execution_count": null,
   "metadata": {},
   "outputs": [],
   "source": [
    "trainer.test(learn, test_dataloader)"
   ]
  },
  {
   "cell_type": "markdown",
   "metadata": {},
   "source": [
    "Calculating the accuracy"
   ]
  },
  {
   "cell_type": "code",
   "execution_count": null,
   "metadata": {},
   "outputs": [],
   "source": [
    "prediction_results = ltc_model(test_x)[0]\n",
    "test_len = test_x.shape[0]"
   ]
  },
  {
   "cell_type": "code",
   "execution_count": null,
   "metadata": {},
   "outputs": [],
   "source": [
    "hits = 0\n",
    "\n",
    "for i in range(test_len):\n",
    "  prediction = prediction_results[i].argmax()\n",
    "  label_response = test_y[i].argmax()\n",
    "\n",
    "  if prediction == label_response:\n",
    "    hits += 1\n",
    "    \n",
    "print(f\"Model's Accuracy On Test Data: {hits/test_x.shape[0]:.4f}\")"
   ]
  },
  {
   "cell_type": "markdown",
   "metadata": {},
   "source": [
    "Saving the trained model"
   ]
  },
  {
   "cell_type": "code",
   "execution_count": null,
   "metadata": {},
   "outputs": [],
   "source": [
    "if not os.path.exists(\"models\"):\n",
    "\tos.makedirs(\"models\")\n",
    "\n",
    "torch.save(ltc_model, f\"models/{model_name}.pt\")"
   ]
  },
  {
   "cell_type": "markdown",
   "metadata": {},
   "source": [
    "Saving the configuration used"
   ]
  },
  {
   "cell_type": "code",
   "execution_count": null,
   "metadata": {},
   "outputs": [],
   "source": [
    "config_file_path = os.path.join(logger.log_dir, \"config.json\")\n",
    "with open(config_file_path, 'w') as config_file:\n",
    "\tjson.dump(configs, config_file, indent=2)"
   ]
  },
  {
   "cell_type": "markdown",
   "metadata": {},
   "source": [
    "Notification for finishing the training"
   ]
  },
  {
   "cell_type": "code",
   "execution_count": null,
   "metadata": {},
   "outputs": [],
   "source": [
    "notification.notify(\n",
    "\ttitle=\"Training ended\",\n",
    "\tmessage=f\"The training of the model {model_name} with {training_configs['max_epochs']} epochs has been completed.\",\n",
    "\ttimeout=10\n",
    ")"
   ]
  }
 ],
 "metadata": {
  "kernelspec": {
   "display_name": "Python 3",
   "language": "python",
   "name": "python3"
  },
  "language_info": {
   "codemirror_mode": {
    "name": "ipython",
    "version": 3
   },
   "file_extension": ".py",
   "mimetype": "text/x-python",
   "name": "python",
   "nbconvert_exporter": "python",
   "pygments_lexer": "ipython3",
   "version": "3.12.3"
  }
 },
 "nbformat": 4,
 "nbformat_minor": 2
}
